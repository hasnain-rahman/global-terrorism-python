{
 "cells": [
  {
   "cell_type": "markdown",
   "id": "0a27c055",
   "metadata": {},
   "source": [
    "# Global Terrorism Data Analysis"
   ]
  },
  {
   "cell_type": "markdown",
   "id": "d40f9bc7",
   "metadata": {},
   "source": [
    "The Global Terrorism Database (GTD) is an open-source database including information on terrorist attacks around the world from 1970 through 2017. The GTD includes systematic data on domestic as well as international terrorist incidents that have occurred during this time period and now includes more than 180,000 attacks. The database is maintained by researchers at the National Consortium for the Study of Terrorism and Responses to Terrorism (START), headquartered at the University of Maryland."
   ]
  },
  {
   "cell_type": "markdown",
   "id": "8ef5ee9b",
   "metadata": {},
   "source": [
    "## Data Importing"
   ]
  },
  {
   "cell_type": "code",
   "execution_count": 1,
   "id": "ffb0cf2f",
   "metadata": {},
   "outputs": [],
   "source": [
    "#importing the libraries\n",
    "import numpy as np\n",
    "import pandas as pd\n",
    "import matplotlib.pyplot as plt\n",
    "import seaborn as sns"
   ]
  },
  {
   "cell_type": "code",
   "execution_count": 2,
   "id": "4e62759d",
   "metadata": {},
   "outputs": [],
   "source": [
    "#import the data\n",
    "\n",
    "path = r\"C:\\Users\\rehan\\Desktop\\Data Analysis Projects\\Terrorism Python Project\\globalterrorismdb_0718dist.tar.bz2\"\n",
    "\n",
    "terrorism_data = pd.read_csv(path,compression=\"bz2\",low_memory=False)"
   ]
  },
  {
   "cell_type": "code",
   "execution_count": 3,
   "id": "12775457",
   "metadata": {},
   "outputs": [
    {
     "data": {
      "text/html": [
       "<div>\n",
       "<style scoped>\n",
       "    .dataframe tbody tr th:only-of-type {\n",
       "        vertical-align: middle;\n",
       "    }\n",
       "\n",
       "    .dataframe tbody tr th {\n",
       "        vertical-align: top;\n",
       "    }\n",
       "\n",
       "    .dataframe thead th {\n",
       "        text-align: right;\n",
       "    }\n",
       "</style>\n",
       "<table border=\"1\" class=\"dataframe\">\n",
       "  <thead>\n",
       "    <tr style=\"text-align: right;\">\n",
       "      <th></th>\n",
       "      <th>Unnamed: 0</th>\n",
       "      <th>eventid</th>\n",
       "      <th>iyear</th>\n",
       "      <th>imonth</th>\n",
       "      <th>iday</th>\n",
       "      <th>approxdate</th>\n",
       "      <th>extended</th>\n",
       "      <th>resolution</th>\n",
       "      <th>country</th>\n",
       "      <th>country_txt</th>\n",
       "      <th>...</th>\n",
       "      <th>addnotes</th>\n",
       "      <th>scite1</th>\n",
       "      <th>scite2</th>\n",
       "      <th>scite3</th>\n",
       "      <th>dbsource</th>\n",
       "      <th>INT_LOG</th>\n",
       "      <th>INT_IDEO</th>\n",
       "      <th>INT_MISC</th>\n",
       "      <th>INT_ANY</th>\n",
       "      <th>related</th>\n",
       "    </tr>\n",
       "  </thead>\n",
       "  <tbody>\n",
       "    <tr>\n",
       "      <th>0</th>\n",
       "      <td>0</td>\n",
       "      <td>197000000001</td>\n",
       "      <td>1970</td>\n",
       "      <td>7</td>\n",
       "      <td>2</td>\n",
       "      <td>NaN</td>\n",
       "      <td>0</td>\n",
       "      <td>NaN</td>\n",
       "      <td>58</td>\n",
       "      <td>Dominican Republic</td>\n",
       "      <td>...</td>\n",
       "      <td>NaN</td>\n",
       "      <td>NaN</td>\n",
       "      <td>NaN</td>\n",
       "      <td>NaN</td>\n",
       "      <td>PGIS</td>\n",
       "      <td>0</td>\n",
       "      <td>0</td>\n",
       "      <td>0</td>\n",
       "      <td>0</td>\n",
       "      <td>NaN</td>\n",
       "    </tr>\n",
       "    <tr>\n",
       "      <th>1</th>\n",
       "      <td>1</td>\n",
       "      <td>197000000002</td>\n",
       "      <td>1970</td>\n",
       "      <td>0</td>\n",
       "      <td>0</td>\n",
       "      <td>NaN</td>\n",
       "      <td>0</td>\n",
       "      <td>NaN</td>\n",
       "      <td>130</td>\n",
       "      <td>Mexico</td>\n",
       "      <td>...</td>\n",
       "      <td>NaN</td>\n",
       "      <td>NaN</td>\n",
       "      <td>NaN</td>\n",
       "      <td>NaN</td>\n",
       "      <td>PGIS</td>\n",
       "      <td>0</td>\n",
       "      <td>1</td>\n",
       "      <td>1</td>\n",
       "      <td>1</td>\n",
       "      <td>NaN</td>\n",
       "    </tr>\n",
       "    <tr>\n",
       "      <th>2</th>\n",
       "      <td>2</td>\n",
       "      <td>197001000001</td>\n",
       "      <td>1970</td>\n",
       "      <td>1</td>\n",
       "      <td>0</td>\n",
       "      <td>NaN</td>\n",
       "      <td>0</td>\n",
       "      <td>NaN</td>\n",
       "      <td>160</td>\n",
       "      <td>Philippines</td>\n",
       "      <td>...</td>\n",
       "      <td>NaN</td>\n",
       "      <td>NaN</td>\n",
       "      <td>NaN</td>\n",
       "      <td>NaN</td>\n",
       "      <td>PGIS</td>\n",
       "      <td>-9</td>\n",
       "      <td>-9</td>\n",
       "      <td>1</td>\n",
       "      <td>1</td>\n",
       "      <td>NaN</td>\n",
       "    </tr>\n",
       "    <tr>\n",
       "      <th>3</th>\n",
       "      <td>3</td>\n",
       "      <td>197001000002</td>\n",
       "      <td>1970</td>\n",
       "      <td>1</td>\n",
       "      <td>0</td>\n",
       "      <td>NaN</td>\n",
       "      <td>0</td>\n",
       "      <td>NaN</td>\n",
       "      <td>78</td>\n",
       "      <td>Greece</td>\n",
       "      <td>...</td>\n",
       "      <td>NaN</td>\n",
       "      <td>NaN</td>\n",
       "      <td>NaN</td>\n",
       "      <td>NaN</td>\n",
       "      <td>PGIS</td>\n",
       "      <td>-9</td>\n",
       "      <td>-9</td>\n",
       "      <td>1</td>\n",
       "      <td>1</td>\n",
       "      <td>NaN</td>\n",
       "    </tr>\n",
       "    <tr>\n",
       "      <th>4</th>\n",
       "      <td>4</td>\n",
       "      <td>197001000003</td>\n",
       "      <td>1970</td>\n",
       "      <td>1</td>\n",
       "      <td>0</td>\n",
       "      <td>NaN</td>\n",
       "      <td>0</td>\n",
       "      <td>NaN</td>\n",
       "      <td>101</td>\n",
       "      <td>Japan</td>\n",
       "      <td>...</td>\n",
       "      <td>NaN</td>\n",
       "      <td>NaN</td>\n",
       "      <td>NaN</td>\n",
       "      <td>NaN</td>\n",
       "      <td>PGIS</td>\n",
       "      <td>-9</td>\n",
       "      <td>-9</td>\n",
       "      <td>1</td>\n",
       "      <td>1</td>\n",
       "      <td>NaN</td>\n",
       "    </tr>\n",
       "  </tbody>\n",
       "</table>\n",
       "<p>5 rows × 136 columns</p>\n",
       "</div>"
      ],
      "text/plain": [
       "   Unnamed: 0       eventid  iyear  imonth  iday approxdate  extended  \\\n",
       "0           0  197000000001   1970       7     2        NaN         0   \n",
       "1           1  197000000002   1970       0     0        NaN         0   \n",
       "2           2  197001000001   1970       1     0        NaN         0   \n",
       "3           3  197001000002   1970       1     0        NaN         0   \n",
       "4           4  197001000003   1970       1     0        NaN         0   \n",
       "\n",
       "  resolution  country         country_txt  ...  addnotes scite1 scite2 scite3  \\\n",
       "0        NaN       58  Dominican Republic  ...       NaN    NaN    NaN    NaN   \n",
       "1        NaN      130              Mexico  ...       NaN    NaN    NaN    NaN   \n",
       "2        NaN      160         Philippines  ...       NaN    NaN    NaN    NaN   \n",
       "3        NaN       78              Greece  ...       NaN    NaN    NaN    NaN   \n",
       "4        NaN      101               Japan  ...       NaN    NaN    NaN    NaN   \n",
       "\n",
       "   dbsource  INT_LOG  INT_IDEO  INT_MISC INT_ANY related  \n",
       "0      PGIS        0         0         0       0     NaN  \n",
       "1      PGIS        0         1         1       1     NaN  \n",
       "2      PGIS       -9        -9         1       1     NaN  \n",
       "3      PGIS       -9        -9         1       1     NaN  \n",
       "4      PGIS       -9        -9         1       1     NaN  \n",
       "\n",
       "[5 rows x 136 columns]"
      ]
     },
     "execution_count": 3,
     "metadata": {},
     "output_type": "execute_result"
    }
   ],
   "source": [
    "terrorism_data.head()"
   ]
  },
  {
   "cell_type": "code",
   "execution_count": 4,
   "id": "c6e25181",
   "metadata": {},
   "outputs": [
    {
     "data": {
      "text/plain": [
       "(181691, 136)"
      ]
     },
     "execution_count": 4,
     "metadata": {},
     "output_type": "execute_result"
    }
   ],
   "source": [
    "terrorism_data.shape"
   ]
  },
  {
   "cell_type": "markdown",
   "id": "5867ad9a",
   "metadata": {},
   "source": [
    "We can see that the dataset contains huge amount of data , we will select suitable columns for our analysis. Also the dataset contains terror info from 1970 - 2016 we will slice the data for a shorter timeframe."
   ]
  },
  {
   "cell_type": "code",
   "execution_count": 5,
   "id": "992c7504",
   "metadata": {},
   "outputs": [
    {
     "data": {
      "text/plain": [
       "[<matplotlib.lines.Line2D at 0x1a7002d8350>]"
      ]
     },
     "execution_count": 5,
     "metadata": {},
     "output_type": "execute_result"
    },
    {
     "data": {
      "image/png": "[encoded data removed]",
      "text/plain": [
       "<Figure size 640x480 with 1 Axes>"
      ]
     },
     "metadata": {},
     "output_type": "display_data"
    }
   ],
   "source": [
    "# let's see  worldwide terror activity since 1970\n",
    "year_activity = terrorism_data.groupby('iyear')['eventid'].count().to_frame()\n",
    "# yearly trend\n",
    "plt.plot(year_activity)"
   ]
  },
  {
   "cell_type": "markdown",
   "id": "269cbdec",
   "metadata": {},
   "source": [
    "We can see steady rise in terrorism 1970 through 1990. We will select the 1990-2017 timeframe for our analysis."
   ]
  },
  {
   "cell_type": "code",
   "execution_count": 6,
   "id": "af8548da",
   "metadata": {},
   "outputs": [],
   "source": [
    "# selecting the columns\n",
    "columns_to_keep = ['eventid','iyear','imonth','iday','country_txt',\n",
    "'region_txt','success','suicide','attacktype1','attacktype1_txt','targtype1_txt',\n",
    "'target1','gname', 'gsubname','nperps','weaptype1_txt','weapsubtype1_txt','nkill','nwound']\n",
    "\n",
    "df = terrorism_data[terrorism_data['iyear'] >= 1990][columns_to_keep]"
   ]
  },
  {
   "cell_type": "code",
   "execution_count": 7,
   "id": "25e594c5",
   "metadata": {},
   "outputs": [],
   "source": [
    "#setting the index \n",
    "df.set_index('eventid',drop = True,inplace = True)"
   ]
  },
  {
   "cell_type": "code",
   "execution_count": 8,
   "id": "cb74f1eb",
   "metadata": {},
   "outputs": [
    {
     "data": {
      "text/html": [
       "<div>\n",
       "<style scoped>\n",
       "    .dataframe tbody tr th:only-of-type {\n",
       "        vertical-align: middle;\n",
       "    }\n",
       "\n",
       "    .dataframe tbody tr th {\n",
       "        vertical-align: top;\n",
       "    }\n",
       "\n",
       "    .dataframe thead th {\n",
       "        text-align: right;\n",
       "    }\n",
       "</style>\n",
       "<table border=\"1\" class=\"dataframe\">\n",
       "  <thead>\n",
       "    <tr style=\"text-align: right;\">\n",
       "      <th></th>\n",
       "      <th>iyear</th>\n",
       "      <th>imonth</th>\n",
       "      <th>iday</th>\n",
       "      <th>country_txt</th>\n",
       "      <th>region_txt</th>\n",
       "      <th>success</th>\n",
       "      <th>suicide</th>\n",
       "      <th>attacktype1</th>\n",
       "      <th>attacktype1_txt</th>\n",
       "      <th>targtype1_txt</th>\n",
       "      <th>target1</th>\n",
       "      <th>gname</th>\n",
       "      <th>gsubname</th>\n",
       "      <th>nperps</th>\n",
       "      <th>weaptype1_txt</th>\n",
       "      <th>weapsubtype1_txt</th>\n",
       "      <th>nkill</th>\n",
       "      <th>nwound</th>\n",
       "    </tr>\n",
       "    <tr>\n",
       "      <th>eventid</th>\n",
       "      <th></th>\n",
       "      <th></th>\n",
       "      <th></th>\n",
       "      <th></th>\n",
       "      <th></th>\n",
       "      <th></th>\n",
       "      <th></th>\n",
       "      <th></th>\n",
       "      <th></th>\n",
       "      <th></th>\n",
       "      <th></th>\n",
       "      <th></th>\n",
       "      <th></th>\n",
       "      <th></th>\n",
       "      <th></th>\n",
       "      <th></th>\n",
       "      <th></th>\n",
       "      <th></th>\n",
       "    </tr>\n",
       "  </thead>\n",
       "  <tbody>\n",
       "    <tr>\n",
       "      <th>199001000001</th>\n",
       "      <td>1990</td>\n",
       "      <td>1</td>\n",
       "      <td>0</td>\n",
       "      <td>Lebanon</td>\n",
       "      <td>Middle East &amp; North Africa</td>\n",
       "      <td>1</td>\n",
       "      <td>0</td>\n",
       "      <td>6</td>\n",
       "      <td>Hostage Taking (Kidnapping)</td>\n",
       "      <td>Journalists &amp; Media</td>\n",
       "      <td>Journalist George Hajj</td>\n",
       "      <td>Unknown</td>\n",
       "      <td>NaN</td>\n",
       "      <td>NaN</td>\n",
       "      <td>Firearms</td>\n",
       "      <td>Handgun</td>\n",
       "      <td>0.0</td>\n",
       "      <td>0.0</td>\n",
       "    </tr>\n",
       "    <tr>\n",
       "      <th>199001010001</th>\n",
       "      <td>1990</td>\n",
       "      <td>1</td>\n",
       "      <td>1</td>\n",
       "      <td>India</td>\n",
       "      <td>South Asia</td>\n",
       "      <td>1</td>\n",
       "      <td>0</td>\n",
       "      <td>3</td>\n",
       "      <td>Bombing/Explosion</td>\n",
       "      <td>Government (General)</td>\n",
       "      <td>State Legislative Building</td>\n",
       "      <td>Unknown</td>\n",
       "      <td>NaN</td>\n",
       "      <td>NaN</td>\n",
       "      <td>Explosives</td>\n",
       "      <td>Unknown Explosive Type</td>\n",
       "      <td>0.0</td>\n",
       "      <td>0.0</td>\n",
       "    </tr>\n",
       "    <tr>\n",
       "      <th>199001010002</th>\n",
       "      <td>1990</td>\n",
       "      <td>1</td>\n",
       "      <td>1</td>\n",
       "      <td>India</td>\n",
       "      <td>South Asia</td>\n",
       "      <td>1</td>\n",
       "      <td>0</td>\n",
       "      <td>3</td>\n",
       "      <td>Bombing/Explosion</td>\n",
       "      <td>Business</td>\n",
       "      <td>Office Complex</td>\n",
       "      <td>Unknown</td>\n",
       "      <td>NaN</td>\n",
       "      <td>NaN</td>\n",
       "      <td>Explosives</td>\n",
       "      <td>Unknown Explosive Type</td>\n",
       "      <td>0.0</td>\n",
       "      <td>0.0</td>\n",
       "    </tr>\n",
       "    <tr>\n",
       "      <th>199001010003</th>\n",
       "      <td>1990</td>\n",
       "      <td>1</td>\n",
       "      <td>1</td>\n",
       "      <td>India</td>\n",
       "      <td>South Asia</td>\n",
       "      <td>1</td>\n",
       "      <td>0</td>\n",
       "      <td>3</td>\n",
       "      <td>Bombing/Explosion</td>\n",
       "      <td>Transportation</td>\n",
       "      <td>Bus</td>\n",
       "      <td>Unknown</td>\n",
       "      <td>NaN</td>\n",
       "      <td>NaN</td>\n",
       "      <td>Explosives</td>\n",
       "      <td>Unknown Explosive Type</td>\n",
       "      <td>0.0</td>\n",
       "      <td>0.0</td>\n",
       "    </tr>\n",
       "    <tr>\n",
       "      <th>199001010004</th>\n",
       "      <td>1990</td>\n",
       "      <td>1</td>\n",
       "      <td>1</td>\n",
       "      <td>Bolivia</td>\n",
       "      <td>South America</td>\n",
       "      <td>1</td>\n",
       "      <td>0</td>\n",
       "      <td>3</td>\n",
       "      <td>Bombing/Explosion</td>\n",
       "      <td>Religious Figures/Institutions</td>\n",
       "      <td>chapel</td>\n",
       "      <td>Alejo Calatayu</td>\n",
       "      <td>NaN</td>\n",
       "      <td>NaN</td>\n",
       "      <td>Explosives</td>\n",
       "      <td>Grenade</td>\n",
       "      <td>0.0</td>\n",
       "      <td>0.0</td>\n",
       "    </tr>\n",
       "  </tbody>\n",
       "</table>\n",
       "</div>"
      ],
      "text/plain": [
       "              iyear  imonth  iday country_txt                  region_txt  \\\n",
       "eventid                                                                     \n",
       "199001000001   1990       1     0     Lebanon  Middle East & North Africa   \n",
       "199001010001   1990       1     1       India                  South Asia   \n",
       "199001010002   1990       1     1       India                  South Asia   \n",
       "199001010003   1990       1     1       India                  South Asia   \n",
       "199001010004   1990       1     1     Bolivia               South America   \n",
       "\n",
       "              success  suicide  attacktype1              attacktype1_txt  \\\n",
       "eventid                                                                    \n",
       "199001000001        1        0            6  Hostage Taking (Kidnapping)   \n",
       "199001010001        1        0            3            Bombing/Explosion   \n",
       "199001010002        1        0            3            Bombing/Explosion   \n",
       "199001010003        1        0            3            Bombing/Explosion   \n",
       "199001010004        1        0            3            Bombing/Explosion   \n",
       "\n",
       "                               targtype1_txt                     target1  \\\n",
       "eventid                                                                    \n",
       "199001000001             Journalists & Media      Journalist George Hajj   \n",
       "199001010001            Government (General)  State Legislative Building   \n",
       "199001010002                        Business              Office Complex   \n",
       "199001010003                  Transportation                         Bus   \n",
       "199001010004  Religious Figures/Institutions                      chapel   \n",
       "\n",
       "                       gname gsubname  nperps weaptype1_txt  \\\n",
       "eventid                                                       \n",
       "199001000001         Unknown      NaN     NaN      Firearms   \n",
       "199001010001         Unknown      NaN     NaN    Explosives   \n",
       "199001010002         Unknown      NaN     NaN    Explosives   \n",
       "199001010003         Unknown      NaN     NaN    Explosives   \n",
       "199001010004  Alejo Calatayu      NaN     NaN    Explosives   \n",
       "\n",
       "                    weapsubtype1_txt  nkill  nwound  \n",
       "eventid                                              \n",
       "199001000001                 Handgun    0.0     0.0  \n",
       "199001010001  Unknown Explosive Type    0.0     0.0  \n",
       "199001010002  Unknown Explosive Type    0.0     0.0  \n",
       "199001010003  Unknown Explosive Type    0.0     0.0  \n",
       "199001010004                 Grenade    0.0     0.0  "
      ]
     },
     "execution_count": 8,
     "metadata": {},
     "output_type": "execute_result"
    }
   ],
   "source": [
    "#checking the new dataframe\n",
    "df.head()"
   ]
  },
  {
   "cell_type": "markdown",
   "id": "f01f27e1",
   "metadata": {},
   "source": [
    "## Data Preparation"
   ]
  },
  {
   "cell_type": "code",
   "execution_count": 9,
   "id": "94e2dc9e",
   "metadata": {},
   "outputs": [
    {
     "data": {
      "text/plain": [
       "iyear                 int64\n",
       "imonth                int64\n",
       "iday                  int64\n",
       "country_txt          object\n",
       "region_txt           object\n",
       "success               int64\n",
       "suicide               int64\n",
       "attacktype1           int64\n",
       "attacktype1_txt      object\n",
       "targtype1_txt        object\n",
       "target1              object\n",
       "gname                object\n",
       "gsubname             object\n",
       "nperps              float64\n",
       "weaptype1_txt        object\n",
       "weapsubtype1_txt     object\n",
       "nkill               float64\n",
       "nwound              float64\n",
       "dtype: object"
      ]
     },
     "execution_count": 9,
     "metadata": {},
     "output_type": "execute_result"
    }
   ],
   "source": [
    "# data types of columns\n",
    "\n",
    "df.dtypes\n",
    "\n",
    "## which seems correct now "
   ]
  },
  {
   "cell_type": "code",
   "execution_count": 10,
   "id": "4a04e622",
   "metadata": {},
   "outputs": [
    {
     "data": {
      "text/plain": [
       "iyear                    0\n",
       "imonth                   0\n",
       "iday                     0\n",
       "country_txt              0\n",
       "region_txt               0\n",
       "success                  0\n",
       "suicide                  0\n",
       "attacktype1              0\n",
       "attacktype1_txt          0\n",
       "targtype1_txt            0\n",
       "target1                258\n",
       "gname                    0\n",
       "gsubname            136201\n",
       "nperps               36387\n",
       "weaptype1_txt            0\n",
       "weapsubtype1_txt     14172\n",
       "nkill                 4630\n",
       "nwound                8814\n",
       "dtype: int64"
      ]
     },
     "execution_count": 10,
     "metadata": {},
     "output_type": "execute_result"
    }
   ],
   "source": [
    "# null values\n",
    "\n",
    "df.isnull().sum()"
   ]
  },
  {
   "cell_type": "markdown",
   "id": "8de883df",
   "metadata": {},
   "source": [
    "terrorist group sub name is not of much concern to us and it has a lot of missing values we can drop the column.\n",
    "however we need no of terrorists , killed and wounded information for our analysis.\n",
    "so we will drop these rows containing missing data."
   ]
  },
  {
   "cell_type": "code",
   "execution_count": 13,
   "id": "5eebc01b",
   "metadata": {},
   "outputs": [],
   "source": [
    "df.drop(columns = ['gsubname','attacktype1'],inplace = True)"
   ]
  },
  {
   "cell_type": "code",
   "execution_count": 14,
   "id": "50abdf76",
   "metadata": {},
   "outputs": [],
   "source": [
    "df.dropna(subset=('nperps','weapsubtype1_txt','nkill','nwound'),inplace = True)"
   ]
  },
  {
   "cell_type": "code",
   "execution_count": 15,
   "id": "6b8f97ba",
   "metadata": {},
   "outputs": [],
   "source": [
    "df.target1.fillna('Unknown',inplace= True)"
   ]
  },
  {
   "cell_type": "code",
   "execution_count": 16,
   "id": "2193eaee",
   "metadata": {},
   "outputs": [
    {
     "data": {
      "text/plain": [
       "iyear               0\n",
       "imonth              0\n",
       "iday                0\n",
       "country_txt         0\n",
       "region_txt          0\n",
       "success             0\n",
       "suicide             0\n",
       "attacktype1_txt     0\n",
       "targtype1_txt       0\n",
       "target1             0\n",
       "gname               0\n",
       "nperps              0\n",
       "weaptype1_txt       0\n",
       "weapsubtype1_txt    0\n",
       "nkill               0\n",
       "nwound              0\n",
       "dtype: int64"
      ]
     },
     "execution_count": 16,
     "metadata": {},
     "output_type": "execute_result"
    }
   ],
   "source": [
    "df.isna().sum()"
   ]
  },
  {
   "cell_type": "code",
   "execution_count": 17,
   "id": "6b47a56b",
   "metadata": {},
   "outputs": [],
   "source": [
    "# null values are dealt with we will give better name to columns\n",
    "\n",
    "df.rename(columns = {'iyear':'year','imonth':'month','iday':'day','country_txt':'country','region_txt':'region','attacktype1_txt':'attacktype','targtype1_txt':'targetype','target1':'target','weaptype1_txt':'weapontype','weapsubtype1_txt':'weaponsubtype'},inplace = True)"
   ]
  },
  {
   "cell_type": "code",
   "execution_count": 18,
   "id": "d829541a",
   "metadata": {},
   "outputs": [
    {
     "data": {
      "text/html": [
       "<div>\n",
       "<style scoped>\n",
       "    .dataframe tbody tr th:only-of-type {\n",
       "        vertical-align: middle;\n",
       "    }\n",
       "\n",
       "    .dataframe tbody tr th {\n",
       "        vertical-align: top;\n",
       "    }\n",
       "\n",
       "    .dataframe thead th {\n",
       "        text-align: right;\n",
       "    }\n",
       "</style>\n",
       "<table border=\"1\" class=\"dataframe\">\n",
       "  <thead>\n",
       "    <tr style=\"text-align: right;\">\n",
       "      <th></th>\n",
       "      <th>year</th>\n",
       "      <th>month</th>\n",
       "      <th>day</th>\n",
       "      <th>country</th>\n",
       "      <th>region</th>\n",
       "      <th>success</th>\n",
       "      <th>suicide</th>\n",
       "      <th>attacktype</th>\n",
       "      <th>targetype</th>\n",
       "      <th>target</th>\n",
       "      <th>gname</th>\n",
       "      <th>nperps</th>\n",
       "      <th>weapontype</th>\n",
       "      <th>weaponsubtype</th>\n",
       "      <th>nkill</th>\n",
       "      <th>nwound</th>\n",
       "    </tr>\n",
       "    <tr>\n",
       "      <th>eventid</th>\n",
       "      <th></th>\n",
       "      <th></th>\n",
       "      <th></th>\n",
       "      <th></th>\n",
       "      <th></th>\n",
       "      <th></th>\n",
       "      <th></th>\n",
       "      <th></th>\n",
       "      <th></th>\n",
       "      <th></th>\n",
       "      <th></th>\n",
       "      <th></th>\n",
       "      <th></th>\n",
       "      <th></th>\n",
       "      <th></th>\n",
       "      <th></th>\n",
       "    </tr>\n",
       "  </thead>\n",
       "  <tbody>\n",
       "    <tr>\n",
       "      <th>199001040001</th>\n",
       "      <td>1990</td>\n",
       "      <td>1</td>\n",
       "      <td>4</td>\n",
       "      <td>Peru</td>\n",
       "      <td>South America</td>\n",
       "      <td>1</td>\n",
       "      <td>0</td>\n",
       "      <td>Armed Assault</td>\n",
       "      <td>Police</td>\n",
       "      <td>station</td>\n",
       "      <td>Shining Path (SL)</td>\n",
       "      <td>10.0</td>\n",
       "      <td>Firearms</td>\n",
       "      <td>Automatic or Semi-Automatic Rifle</td>\n",
       "      <td>3.0</td>\n",
       "      <td>1.0</td>\n",
       "    </tr>\n",
       "    <tr>\n",
       "      <th>199001050004</th>\n",
       "      <td>1990</td>\n",
       "      <td>1</td>\n",
       "      <td>5</td>\n",
       "      <td>Colombia</td>\n",
       "      <td>South America</td>\n",
       "      <td>1</td>\n",
       "      <td>0</td>\n",
       "      <td>Assassination</td>\n",
       "      <td>Government (General)</td>\n",
       "      <td>Roberto Lozano Suarez, Land Reform Advisor to ...</td>\n",
       "      <td>Unknown</td>\n",
       "      <td>1.0</td>\n",
       "      <td>Firearms</td>\n",
       "      <td>Handgun</td>\n",
       "      <td>1.0</td>\n",
       "      <td>0.0</td>\n",
       "    </tr>\n",
       "    <tr>\n",
       "      <th>199001050007</th>\n",
       "      <td>1990</td>\n",
       "      <td>1</td>\n",
       "      <td>5</td>\n",
       "      <td>Philippines</td>\n",
       "      <td>Southeast Asia</td>\n",
       "      <td>1</td>\n",
       "      <td>0</td>\n",
       "      <td>Assassination</td>\n",
       "      <td>Government (General)</td>\n",
       "      <td>Mayor Javier Hizon</td>\n",
       "      <td>New People's Army (NPA)</td>\n",
       "      <td>2.0</td>\n",
       "      <td>Firearms</td>\n",
       "      <td>Handgun</td>\n",
       "      <td>2.0</td>\n",
       "      <td>0.0</td>\n",
       "    </tr>\n",
       "    <tr>\n",
       "      <th>199001060013</th>\n",
       "      <td>1990</td>\n",
       "      <td>1</td>\n",
       "      <td>6</td>\n",
       "      <td>Colombia</td>\n",
       "      <td>South America</td>\n",
       "      <td>1</td>\n",
       "      <td>0</td>\n",
       "      <td>Bombing/Explosion</td>\n",
       "      <td>Business</td>\n",
       "      <td>building</td>\n",
       "      <td>Unknown</td>\n",
       "      <td>2.0</td>\n",
       "      <td>Explosives</td>\n",
       "      <td>Unknown Explosive Type</td>\n",
       "      <td>0.0</td>\n",
       "      <td>3.0</td>\n",
       "    </tr>\n",
       "    <tr>\n",
       "      <th>199001080008</th>\n",
       "      <td>1990</td>\n",
       "      <td>1</td>\n",
       "      <td>8</td>\n",
       "      <td>Peru</td>\n",
       "      <td>South America</td>\n",
       "      <td>1</td>\n",
       "      <td>0</td>\n",
       "      <td>Assassination</td>\n",
       "      <td>Police</td>\n",
       "      <td>Sgt Jose Zuniga Revilla</td>\n",
       "      <td>Shining Path (SL)</td>\n",
       "      <td>4.0</td>\n",
       "      <td>Firearms</td>\n",
       "      <td>Handgun</td>\n",
       "      <td>2.0</td>\n",
       "      <td>0.0</td>\n",
       "    </tr>\n",
       "  </tbody>\n",
       "</table>\n",
       "</div>"
      ],
      "text/plain": [
       "              year  month  day      country          region  success  suicide  \\\n",
       "eventid                                                                         \n",
       "199001040001  1990      1    4         Peru   South America        1        0   \n",
       "199001050004  1990      1    5     Colombia   South America        1        0   \n",
       "199001050007  1990      1    5  Philippines  Southeast Asia        1        0   \n",
       "199001060013  1990      1    6     Colombia   South America        1        0   \n",
       "199001080008  1990      1    8         Peru   South America        1        0   \n",
       "\n",
       "                     attacktype             targetype  \\\n",
       "eventid                                                 \n",
       "199001040001      Armed Assault                Police   \n",
       "199001050004      Assassination  Government (General)   \n",
       "199001050007      Assassination  Government (General)   \n",
       "199001060013  Bombing/Explosion              Business   \n",
       "199001080008      Assassination                Police   \n",
       "\n",
       "                                                         target  \\\n",
       "eventid                                                           \n",
       "199001040001                                            station   \n",
       "199001050004  Roberto Lozano Suarez, Land Reform Advisor to ...   \n",
       "199001050007                                 Mayor Javier Hizon   \n",
       "199001060013                                           building   \n",
       "199001080008                            Sgt Jose Zuniga Revilla   \n",
       "\n",
       "                                gname  nperps  weapontype  \\\n",
       "eventid                                                     \n",
       "199001040001        Shining Path (SL)    10.0    Firearms   \n",
       "199001050004                  Unknown     1.0    Firearms   \n",
       "199001050007  New People's Army (NPA)     2.0    Firearms   \n",
       "199001060013                  Unknown     2.0  Explosives   \n",
       "199001080008        Shining Path (SL)     4.0    Firearms   \n",
       "\n",
       "                                  weaponsubtype  nkill  nwound  \n",
       "eventid                                                         \n",
       "199001040001  Automatic or Semi-Automatic Rifle    3.0     1.0  \n",
       "199001050004                            Handgun    1.0     0.0  \n",
       "199001050007                            Handgun    2.0     0.0  \n",
       "199001060013             Unknown Explosive Type    0.0     3.0  \n",
       "199001080008                            Handgun    2.0     0.0  "
      ]
     },
     "execution_count": 18,
     "metadata": {},
     "output_type": "execute_result"
    }
   ],
   "source": [
    "df.head()"
   ]
  },
  {
   "cell_type": "markdown",
   "id": "29f3fc7d",
   "metadata": {},
   "source": [
    "Now our data is prepared and ready for analysis"
   ]
  },
  {
   "cell_type": "markdown",
   "id": "4dacf264",
   "metadata": {},
   "source": [
    "# Exploratory Data Analysis"
   ]
  },
  {
   "cell_type": "code",
   "execution_count": 19,
   "id": "38a44c3a",
   "metadata": {},
   "outputs": [
    {
     "data": {
      "text/html": [
       "<div>\n",
       "<style scoped>\n",
       "    .dataframe tbody tr th:only-of-type {\n",
       "        vertical-align: middle;\n",
       "    }\n",
       "\n",
       "    .dataframe tbody tr th {\n",
       "        vertical-align: top;\n",
       "    }\n",
       "\n",
       "    .dataframe thead th {\n",
       "        text-align: right;\n",
       "    }\n",
       "</style>\n",
       "<table border=\"1\" class=\"dataframe\">\n",
       "  <thead>\n",
       "    <tr style=\"text-align: right;\">\n",
       "      <th></th>\n",
       "      <th>nperps</th>\n",
       "      <th>nkill</th>\n",
       "      <th>nwound</th>\n",
       "    </tr>\n",
       "  </thead>\n",
       "  <tbody>\n",
       "    <tr>\n",
       "      <th>count</th>\n",
       "      <td>89886.000000</td>\n",
       "      <td>89886.000000</td>\n",
       "      <td>89886.000000</td>\n",
       "    </tr>\n",
       "    <tr>\n",
       "      <th>mean</th>\n",
       "      <td>-73.717431</td>\n",
       "      <td>2.015720</td>\n",
       "      <td>3.438989</td>\n",
       "    </tr>\n",
       "    <tr>\n",
       "      <th>std</th>\n",
       "      <td>55.199759</td>\n",
       "      <td>7.205028</td>\n",
       "      <td>14.269968</td>\n",
       "    </tr>\n",
       "    <tr>\n",
       "      <th>min</th>\n",
       "      <td>-99.000000</td>\n",
       "      <td>0.000000</td>\n",
       "      <td>0.000000</td>\n",
       "    </tr>\n",
       "    <tr>\n",
       "      <th>25%</th>\n",
       "      <td>-99.000000</td>\n",
       "      <td>0.000000</td>\n",
       "      <td>0.000000</td>\n",
       "    </tr>\n",
       "    <tr>\n",
       "      <th>50%</th>\n",
       "      <td>-99.000000</td>\n",
       "      <td>1.000000</td>\n",
       "      <td>0.000000</td>\n",
       "    </tr>\n",
       "    <tr>\n",
       "      <th>75%</th>\n",
       "      <td>-99.000000</td>\n",
       "      <td>2.000000</td>\n",
       "      <td>3.000000</td>\n",
       "    </tr>\n",
       "    <tr>\n",
       "      <th>max</th>\n",
       "      <td>3000.000000</td>\n",
       "      <td>670.000000</td>\n",
       "      <td>1500.000000</td>\n",
       "    </tr>\n",
       "  </tbody>\n",
       "</table>\n",
       "</div>"
      ],
      "text/plain": [
       "             nperps         nkill        nwound\n",
       "count  89886.000000  89886.000000  89886.000000\n",
       "mean     -73.717431      2.015720      3.438989\n",
       "std       55.199759      7.205028     14.269968\n",
       "min      -99.000000      0.000000      0.000000\n",
       "25%      -99.000000      0.000000      0.000000\n",
       "50%      -99.000000      1.000000      0.000000\n",
       "75%      -99.000000      2.000000      3.000000\n",
       "max     3000.000000    670.000000   1500.000000"
      ]
     },
     "execution_count": 19,
     "metadata": {},
     "output_type": "execute_result"
    }
   ],
   "source": [
    "##distribution of number of terrorists , casualties and wounded\n",
    "df[['nperps','nkill','nwound']].describe()"
   ]
  },
  {
   "cell_type": "code",
   "execution_count": 20,
   "id": "9d8e8284",
   "metadata": {},
   "outputs": [
    {
     "data": {
      "text/plain": [
       "-99.0      69549\n",
       " 1.0        7209\n",
       " 2.0        4661\n",
       " 3.0        1839\n",
       " 4.0        1454\n",
       "           ...  \n",
       " 230.0         1\n",
       " 190.0         1\n",
       " 204.0         1\n",
       " 1200.0        1\n",
       " 41.0          1\n",
       "Name: nperps, Length: 86, dtype: int64"
      ]
     },
     "execution_count": 20,
     "metadata": {},
     "output_type": "execute_result"
    }
   ],
   "source": [
    "df.nperps.value_counts()"
   ]
  },
  {
   "cell_type": "code",
   "execution_count": 21,
   "id": "8381d8ff",
   "metadata": {},
   "outputs": [],
   "source": [
    "#this -99 must have been used for unknown terrorist count \n",
    "#will replace this with 0 since dropping these will lead to large loss of data///\n",
    "df.nperps.replace(-99.0,0,inplace = True)"
   ]
  },
  {
   "cell_type": "code",
   "execution_count": 22,
   "id": "df4fc259",
   "metadata": {},
   "outputs": [
    {
     "data": {
      "text/html": [
       "<div>\n",
       "<style scoped>\n",
       "    .dataframe tbody tr th:only-of-type {\n",
       "        vertical-align: middle;\n",
       "    }\n",
       "\n",
       "    .dataframe tbody tr th {\n",
       "        vertical-align: top;\n",
       "    }\n",
       "\n",
       "    .dataframe thead th {\n",
       "        text-align: right;\n",
       "    }\n",
       "</style>\n",
       "<table border=\"1\" class=\"dataframe\">\n",
       "  <thead>\n",
       "    <tr style=\"text-align: right;\">\n",
       "      <th></th>\n",
       "      <th>nperps</th>\n",
       "      <th>nkill</th>\n",
       "      <th>nwound</th>\n",
       "    </tr>\n",
       "  </thead>\n",
       "  <tbody>\n",
       "    <tr>\n",
       "      <th>count</th>\n",
       "      <td>89886.000000</td>\n",
       "      <td>89886.000000</td>\n",
       "      <td>89886.000000</td>\n",
       "    </tr>\n",
       "    <tr>\n",
       "      <th>mean</th>\n",
       "      <td>2.883497</td>\n",
       "      <td>2.015720</td>\n",
       "      <td>3.438989</td>\n",
       "    </tr>\n",
       "    <tr>\n",
       "      <th>std</th>\n",
       "      <td>29.823524</td>\n",
       "      <td>7.205028</td>\n",
       "      <td>14.269968</td>\n",
       "    </tr>\n",
       "    <tr>\n",
       "      <th>min</th>\n",
       "      <td>-9.000000</td>\n",
       "      <td>0.000000</td>\n",
       "      <td>0.000000</td>\n",
       "    </tr>\n",
       "    <tr>\n",
       "      <th>25%</th>\n",
       "      <td>0.000000</td>\n",
       "      <td>0.000000</td>\n",
       "      <td>0.000000</td>\n",
       "    </tr>\n",
       "    <tr>\n",
       "      <th>50%</th>\n",
       "      <td>0.000000</td>\n",
       "      <td>1.000000</td>\n",
       "      <td>0.000000</td>\n",
       "    </tr>\n",
       "    <tr>\n",
       "      <th>75%</th>\n",
       "      <td>0.000000</td>\n",
       "      <td>2.000000</td>\n",
       "      <td>3.000000</td>\n",
       "    </tr>\n",
       "    <tr>\n",
       "      <th>max</th>\n",
       "      <td>3000.000000</td>\n",
       "      <td>670.000000</td>\n",
       "      <td>1500.000000</td>\n",
       "    </tr>\n",
       "  </tbody>\n",
       "</table>\n",
       "</div>"
      ],
      "text/plain": [
       "             nperps         nkill        nwound\n",
       "count  89886.000000  89886.000000  89886.000000\n",
       "mean       2.883497      2.015720      3.438989\n",
       "std       29.823524      7.205028     14.269968\n",
       "min       -9.000000      0.000000      0.000000\n",
       "25%        0.000000      0.000000      0.000000\n",
       "50%        0.000000      1.000000      0.000000\n",
       "75%        0.000000      2.000000      3.000000\n",
       "max     3000.000000    670.000000   1500.000000"
      ]
     },
     "execution_count": 22,
     "metadata": {},
     "output_type": "execute_result"
    }
   ],
   "source": [
    "df[['nperps','nkill','nwound']].describe()"
   ]
  },
  {
   "cell_type": "code",
   "execution_count": 23,
   "id": "8dcb9572",
   "metadata": {},
   "outputs": [
    {
     "data": {
      "text/html": [
       "<div>\n",
       "<style scoped>\n",
       "    .dataframe tbody tr th:only-of-type {\n",
       "        vertical-align: middle;\n",
       "    }\n",
       "\n",
       "    .dataframe tbody tr th {\n",
       "        vertical-align: top;\n",
       "    }\n",
       "\n",
       "    .dataframe thead th {\n",
       "        text-align: right;\n",
       "    }\n",
       "</style>\n",
       "<table border=\"1\" class=\"dataframe\">\n",
       "  <thead>\n",
       "    <tr style=\"text-align: right;\">\n",
       "      <th></th>\n",
       "      <th>year</th>\n",
       "      <th>month</th>\n",
       "      <th>day</th>\n",
       "      <th>country</th>\n",
       "      <th>region</th>\n",
       "      <th>success</th>\n",
       "      <th>suicide</th>\n",
       "      <th>attacktype</th>\n",
       "      <th>targetype</th>\n",
       "      <th>target</th>\n",
       "      <th>gname</th>\n",
       "      <th>nperps</th>\n",
       "      <th>weapontype</th>\n",
       "      <th>weaponsubtype</th>\n",
       "      <th>nkill</th>\n",
       "      <th>nwound</th>\n",
       "    </tr>\n",
       "    <tr>\n",
       "      <th>eventid</th>\n",
       "      <th></th>\n",
       "      <th></th>\n",
       "      <th></th>\n",
       "      <th></th>\n",
       "      <th></th>\n",
       "      <th></th>\n",
       "      <th></th>\n",
       "      <th></th>\n",
       "      <th></th>\n",
       "      <th></th>\n",
       "      <th></th>\n",
       "      <th></th>\n",
       "      <th></th>\n",
       "      <th></th>\n",
       "      <th></th>\n",
       "      <th></th>\n",
       "    </tr>\n",
       "  </thead>\n",
       "  <tbody>\n",
       "    <tr>\n",
       "      <th>201005160019</th>\n",
       "      <td>2010</td>\n",
       "      <td>5</td>\n",
       "      <td>16</td>\n",
       "      <td>Iraq</td>\n",
       "      <td>Middle East &amp; North Africa</td>\n",
       "      <td>1</td>\n",
       "      <td>0</td>\n",
       "      <td>Bombing/Explosion</td>\n",
       "      <td>Government (General)</td>\n",
       "      <td>A Regional Government (KRG) official was targe...</td>\n",
       "      <td>Unknown</td>\n",
       "      <td>-9.0</td>\n",
       "      <td>Explosives</td>\n",
       "      <td>Other Explosive Type</td>\n",
       "      <td>0.0</td>\n",
       "      <td>0.0</td>\n",
       "    </tr>\n",
       "  </tbody>\n",
       "</table>\n",
       "</div>"
      ],
      "text/plain": [
       "              year  month  day country                      region  success  \\\n",
       "eventid                                                                       \n",
       "201005160019  2010      5   16    Iraq  Middle East & North Africa        1   \n",
       "\n",
       "              suicide         attacktype             targetype  \\\n",
       "eventid                                                          \n",
       "201005160019        0  Bombing/Explosion  Government (General)   \n",
       "\n",
       "                                                         target    gname  \\\n",
       "eventid                                                                    \n",
       "201005160019  A Regional Government (KRG) official was targe...  Unknown   \n",
       "\n",
       "              nperps  weapontype         weaponsubtype  nkill  nwound  \n",
       "eventid                                                                \n",
       "201005160019    -9.0  Explosives  Other Explosive Type    0.0     0.0  "
      ]
     },
     "execution_count": 23,
     "metadata": {},
     "output_type": "execute_result"
    }
   ],
   "source": [
    "## there are still negative values in nperps\n",
    "df[df.nperps <0 ]"
   ]
  },
  {
   "cell_type": "code",
   "execution_count": 24,
   "id": "8ec1dce7",
   "metadata": {},
   "outputs": [
    {
     "data": {
      "text/html": [
       "<div>\n",
       "<style scoped>\n",
       "    .dataframe tbody tr th:only-of-type {\n",
       "        vertical-align: middle;\n",
       "    }\n",
       "\n",
       "    .dataframe tbody tr th {\n",
       "        vertical-align: top;\n",
       "    }\n",
       "\n",
       "    .dataframe thead th {\n",
       "        text-align: right;\n",
       "    }\n",
       "</style>\n",
       "<table border=\"1\" class=\"dataframe\">\n",
       "  <thead>\n",
       "    <tr style=\"text-align: right;\">\n",
       "      <th></th>\n",
       "      <th>nperps</th>\n",
       "      <th>nkill</th>\n",
       "      <th>nwound</th>\n",
       "    </tr>\n",
       "  </thead>\n",
       "  <tbody>\n",
       "    <tr>\n",
       "      <th>count</th>\n",
       "      <td>89886.000000</td>\n",
       "      <td>89886.000000</td>\n",
       "      <td>89886.000000</td>\n",
       "    </tr>\n",
       "    <tr>\n",
       "      <th>mean</th>\n",
       "      <td>2.883597</td>\n",
       "      <td>2.015720</td>\n",
       "      <td>3.438989</td>\n",
       "    </tr>\n",
       "    <tr>\n",
       "      <th>std</th>\n",
       "      <td>29.823499</td>\n",
       "      <td>7.205028</td>\n",
       "      <td>14.269968</td>\n",
       "    </tr>\n",
       "    <tr>\n",
       "      <th>min</th>\n",
       "      <td>0.000000</td>\n",
       "      <td>0.000000</td>\n",
       "      <td>0.000000</td>\n",
       "    </tr>\n",
       "    <tr>\n",
       "      <th>25%</th>\n",
       "      <td>0.000000</td>\n",
       "      <td>0.000000</td>\n",
       "      <td>0.000000</td>\n",
       "    </tr>\n",
       "    <tr>\n",
       "      <th>50%</th>\n",
       "      <td>0.000000</td>\n",
       "      <td>1.000000</td>\n",
       "      <td>0.000000</td>\n",
       "    </tr>\n",
       "    <tr>\n",
       "      <th>75%</th>\n",
       "      <td>0.000000</td>\n",
       "      <td>2.000000</td>\n",
       "      <td>3.000000</td>\n",
       "    </tr>\n",
       "    <tr>\n",
       "      <th>max</th>\n",
       "      <td>3000.000000</td>\n",
       "      <td>670.000000</td>\n",
       "      <td>1500.000000</td>\n",
       "    </tr>\n",
       "  </tbody>\n",
       "</table>\n",
       "</div>"
      ],
      "text/plain": [
       "             nperps         nkill        nwound\n",
       "count  89886.000000  89886.000000  89886.000000\n",
       "mean       2.883597      2.015720      3.438989\n",
       "std       29.823499      7.205028     14.269968\n",
       "min        0.000000      0.000000      0.000000\n",
       "25%        0.000000      0.000000      0.000000\n",
       "50%        0.000000      1.000000      0.000000\n",
       "75%        0.000000      2.000000      3.000000\n",
       "max     3000.000000    670.000000   1500.000000"
      ]
     },
     "execution_count": 24,
     "metadata": {},
     "output_type": "execute_result"
    }
   ],
   "source": [
    "df.nperps.replace(-9.0,0,inplace = True)\n",
    "df[['nperps','nkill','nwound']].describe()"
   ]
  },
  {
   "cell_type": "code",
   "execution_count": 25,
   "id": "293cdfd5",
   "metadata": {},
   "outputs": [
    {
     "data": {
      "text/plain": [
       "175"
      ]
     },
     "execution_count": 25,
     "metadata": {},
     "output_type": "execute_result"
    }
   ],
   "source": [
    "df.country.nunique()"
   ]
  },
  {
   "cell_type": "code",
   "execution_count": 26,
   "id": "c1bc8f5a",
   "metadata": {},
   "outputs": [
    {
     "data": {
      "text/plain": [
       "12"
      ]
     },
     "execution_count": 26,
     "metadata": {},
     "output_type": "execute_result"
    }
   ],
   "source": [
    "df.region.nunique()"
   ]
  },
  {
   "cell_type": "markdown",
   "id": "0d717c8a",
   "metadata": {},
   "source": [
    "We have data from 175 countries across 12 regions"
   ]
  },
  {
   "cell_type": "code",
   "execution_count": 49,
   "id": "f00f84e6",
   "metadata": {},
   "outputs": [
    {
     "data": {
      "text/plain": [
       "Text(0.5, 1.0, 'Number of attacks by Year')"
      ]
     },
     "execution_count": 49,
     "metadata": {},
     "output_type": "execute_result"
    },
    {
     "data": {
      "image/png": "[encoded data removed]",
      "text/plain": [
       "<Figure size 1000x400 with 1 Axes>"
      ]
     },
     "metadata": {},
     "output_type": "display_data"
    }
   ],
   "source": [
    "# attacks by year\n",
    "\n",
    "plt.figure(figsize=(10,4))\n",
    "sns.countplot(x='year',data =df,palette='YlOrRd')\n",
    "plt.xticks(rotation=90)\n",
    "plt.ylabel('Number of attacks')\n",
    "plt.title('Number of attacks by Year')"
   ]
  },
  {
   "cell_type": "code",
   "execution_count": 63,
   "id": "44496732",
   "metadata": {},
   "outputs": [
    {
     "data": {
      "text/plain": [
       "Text(0.5, 1.0, 'Attacks by Region')"
      ]
     },
     "execution_count": 63,
     "metadata": {},
     "output_type": "execute_result"
    },
    {
     "data": {
      "image/png": "[encoded data removed]",
      "text/plain": [
       "<Figure size 1000x400 with 1 Axes>"
      ]
     },
     "metadata": {},
     "output_type": "display_data"
    }
   ],
   "source": [
    "# attacks by region\n",
    "\n",
    "plt.figure(figsize = (10,4))\n",
    "sns.countplot(y ='region', data = df , palette = 'YlOrRd',order = df.region.value_counts().index)\n",
    "plt.ylabel('Number of Attacks')\n",
    "plt.title('Attacks by Region')"
   ]
  },
  {
   "cell_type": "code",
   "execution_count": 89,
   "id": "777c37dc",
   "metadata": {},
   "outputs": [
    {
     "data": {
      "text/plain": [
       "Text(0.5, 1.0, 'Attacks by country')"
      ]
     },
     "execution_count": 89,
     "metadata": {},
     "output_type": "execute_result"
    },
    {
     "data": {
      "image/png": "[encoded data removed]",
      "text/plain": [
       "<Figure size 1200x600 with 1 Axes>"
      ]
     },
     "metadata": {},
     "output_type": "display_data"
    }
   ],
   "source": [
    "#countries most affected by attacks top 25\n",
    "\n",
    "most_affected_countries = df['country'].value_counts().nlargest(25).to_frame().reset_index()\n",
    "\n",
    "plt.figure(figsize = (12,6))\n",
    "sns.barplot(x='index',y='country',data = most_affected_countries ,palette = 'YlOrRd')\n",
    "plt.xticks(rotation = 90)\n",
    "plt.ylabel('Number of Attacks')\n",
    "plt.title('Attacks by country')\n"
   ]
  },
  {
   "cell_type": "code",
   "execution_count": 132,
   "id": "04ca93c4",
   "metadata": {},
   "outputs": [
    {
     "data": {
      "text/html": [
       "<div>\n",
       "<style scoped>\n",
       "    .dataframe tbody tr th:only-of-type {\n",
       "        vertical-align: middle;\n",
       "    }\n",
       "\n",
       "    .dataframe tbody tr th {\n",
       "        vertical-align: top;\n",
       "    }\n",
       "\n",
       "    .dataframe thead th {\n",
       "        text-align: right;\n",
       "    }\n",
       "</style>\n",
       "<table border=\"1\" class=\"dataframe\">\n",
       "  <thead>\n",
       "    <tr style=\"text-align: right;\">\n",
       "      <th></th>\n",
       "      <th>year</th>\n",
       "      <th>Total attacks</th>\n",
       "      <th>Total killed</th>\n",
       "      <th>Total injured</th>\n",
       "    </tr>\n",
       "  </thead>\n",
       "  <tbody>\n",
       "    <tr>\n",
       "      <th>0</th>\n",
       "      <td>1990</td>\n",
       "      <td>332</td>\n",
       "      <td>910.0</td>\n",
       "      <td>447.0</td>\n",
       "    </tr>\n",
       "    <tr>\n",
       "      <th>1</th>\n",
       "      <td>1991</td>\n",
       "      <td>438</td>\n",
       "      <td>1167.0</td>\n",
       "      <td>476.0</td>\n",
       "    </tr>\n",
       "    <tr>\n",
       "      <th>2</th>\n",
       "      <td>1992</td>\n",
       "      <td>560</td>\n",
       "      <td>1226.0</td>\n",
       "      <td>1002.0</td>\n",
       "    </tr>\n",
       "    <tr>\n",
       "      <th>3</th>\n",
       "      <td>1994</td>\n",
       "      <td>300</td>\n",
       "      <td>649.0</td>\n",
       "      <td>760.0</td>\n",
       "    </tr>\n",
       "    <tr>\n",
       "      <th>4</th>\n",
       "      <td>1995</td>\n",
       "      <td>264</td>\n",
       "      <td>1006.0</td>\n",
       "      <td>1630.0</td>\n",
       "    </tr>\n",
       "  </tbody>\n",
       "</table>\n",
       "</div>"
      ],
      "text/plain": [
       "   year  Total attacks  Total killed  Total injured\n",
       "0  1990            332         910.0          447.0\n",
       "1  1991            438        1167.0          476.0\n",
       "2  1992            560        1226.0         1002.0\n",
       "3  1994            300         649.0          760.0\n",
       "4  1995            264        1006.0         1630.0"
      ]
     },
     "execution_count": 132,
     "metadata": {},
     "output_type": "execute_result"
    }
   ],
   "source": [
    "# number of incidents and casualties by year\n",
    "\n",
    "casualties = df.groupby('year').agg({'year':'count','nkill':'sum','nwound':'sum'})\n",
    "\n",
    "casualties = casualties.rename(columns = {'year':'Total attacks','nkill':'Total killed','nwound':'Total injured'}).reset_index()\n",
    "\n",
    "casualties.head()"
   ]
  },
  {
   "cell_type": "code",
   "execution_count": 145,
   "id": "ef63048a",
   "metadata": {},
   "outputs": [
    {
     "data": {
      "text/plain": [
       "<matplotlib.legend.Legend at 0x1a7bd45c6d0>"
      ]
     },
     "execution_count": 145,
     "metadata": {},
     "output_type": "execute_result"
    },
    {
     "data": {
      "image/png": "[encoded data removed]",
      "text/plain": [
       "<Figure size 1000x400 with 1 Axes>"
      ]
     },
     "metadata": {},
     "output_type": "display_data"
    }
   ],
   "source": [
    "#plotting trends of attacks ,deaths and wounded\n",
    "\n",
    "plt.figure(figsize = (10,4))\n",
    "plt.plot('year','Total attacks',data = casualties,color='r',label='total attacks')\n",
    "plt.plot('year','Total killed',data = casualties,color='b',label='total killed')\n",
    "plt.plot('year','Total injured',data = casualties,color='y',label='total injured')\n",
    "plt.legend()\n"
   ]
  },
  {
   "cell_type": "code",
   "execution_count": 147,
   "id": "e2d99e75",
   "metadata": {},
   "outputs": [
    {
     "data": {
      "text/plain": [
       "Private Citizens & Property       23454\n",
       "Military                          13863\n",
       "Police                            13697\n",
       "Government (General)              10058\n",
       "Business                           7638\n",
       "Unknown                            4945\n",
       "Religious Figures/Institutions     2583\n",
       "Transportation                     2534\n",
       "Educational Institution            2466\n",
       "Utilities                          1912\n",
       "Terrorists/Non-State Militia       1886\n",
       "Journalists & Media                1063\n",
       "Government (Diplomatic)            1009\n",
       "Violent Political Party             989\n",
       "Telecommunication                   492\n",
       "NGO                                 432\n",
       "Airports & Aircraft                 311\n",
       "Tourists                            128\n",
       "Food or Water Supply                120\n",
       "Abortion Related                    112\n",
       "Maritime                            104\n",
       "Other                                90\n",
       "Name: targetype, dtype: int64"
      ]
     },
     "execution_count": 147,
     "metadata": {},
     "output_type": "execute_result"
    }
   ],
   "source": [
    "#most targeted installations\n",
    "\n",
    "df.targetype.value_counts()"
   ]
  },
  {
   "cell_type": "code",
   "execution_count": 148,
   "id": "398d625f",
   "metadata": {},
   "outputs": [
    {
     "data": {
      "text/plain": [
       "Explosives      54867\n",
       "Firearms        28244\n",
       "Incendiary       4581\n",
       "Melee            2086\n",
       "Chemical          107\n",
       "Radiological        1\n",
       "Name: weapontype, dtype: int64"
      ]
     },
     "execution_count": 148,
     "metadata": {},
     "output_type": "execute_result"
    }
   ],
   "source": [
    "df.weapontype.value_counts()"
   ]
  },
  {
   "cell_type": "code",
   "execution_count": 149,
   "id": "da4300e3",
   "metadata": {},
   "outputs": [
    {
     "data": {
      "text/plain": [
       "Bombing/Explosion                      51320\n",
       "Armed Assault                          22628\n",
       "Assassination                           6980\n",
       "Facility/Infrastructure Attack          4680\n",
       "Hostage Taking (Kidnapping)             3341\n",
       "Unarmed Assault                          346\n",
       "Hostage Taking (Barricade Incident)      325\n",
       "Hijacking                                259\n",
       "Unknown                                    7\n",
       "Name: attacktype, dtype: int64"
      ]
     },
     "execution_count": 149,
     "metadata": {},
     "output_type": "execute_result"
    }
   ],
   "source": [
    "df.attacktype.value_counts()"
   ]
  },
  {
   "cell_type": "code",
   "execution_count": 153,
   "id": "52f513ce",
   "metadata": {},
   "outputs": [
    {
     "data": {
      "text/plain": [
       "Unknown                                        49645\n",
       "Taliban                                         5339\n",
       "Islamic State of Iraq and the Levant (ISIL)     4043\n",
       "Al-Shabaab                                      2098\n",
       "Boko Haram                                      1654\n",
       "                                               ...  \n",
       "Zuwar al-Imam Rida                                 1\n",
       "Four Martyrs Brigade                               1\n",
       "Aisha Umm-al Mouemeneen (Brigades of Aisha)        1\n",
       "Chukakuha Revolutionary Army                       1\n",
       "Anarchist Action (CA / United States)              1\n",
       "Name: gname, Length: 1386, dtype: int64"
      ]
     },
     "execution_count": 153,
     "metadata": {},
     "output_type": "execute_result"
    }
   ],
   "source": [
    "# most voilent groups\n",
    "\n",
    "df.gname.value_counts()"
   ]
  },
  {
   "cell_type": "markdown",
   "id": "65fa5bb1",
   "metadata": {},
   "source": [
    "# Exporting the Data"
   ]
  },
  {
   "cell_type": "code",
   "execution_count": 154,
   "id": "bf9f9dae",
   "metadata": {},
   "outputs": [],
   "source": [
    "filepath = r\"C:\\Users\\rehan\\Desktop\\Data Analysis Projects\\Terrorism Python Project\\globalterrorism.csv\"\n",
    "df.to_csv(filepath)"
   ]
  }
 ],
 "metadata": {
  "kernelspec": {
   "display_name": "Python 3 (ipykernel)",
   "language": "python",
   "name": "python3"
  },
  "language_info": {
   "codemirror_mode": {
    "name": "ipython",
    "version": 3
   },
   "file_extension": ".py",
   "mimetype": "text/x-python",
   "name": "python",
   "nbconvert_exporter": "python",
   "pygments_lexer": "ipython3",
   "version": "3.11.2"
  }
 },
 "nbformat": 4,
 "nbformat_minor": 5
}
